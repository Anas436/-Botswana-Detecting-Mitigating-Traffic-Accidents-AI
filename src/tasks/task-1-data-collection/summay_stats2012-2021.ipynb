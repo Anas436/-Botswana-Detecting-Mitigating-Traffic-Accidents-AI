{
 "cells": [
  {
   "cell_type": "code",
   "execution_count": 1,
   "id": "4d5fc9ed-8220-4cd0-8f04-13f67c4bf6dc",
   "metadata": {},
   "outputs": [],
   "source": [
    "from selenium import webdriver\n",
    "from selenium.webdriver.common.keys import Keys\n",
    "from selenium.webdriver.chrome.service import Service\n",
    "from selenium.webdriver.common.by import By\n",
    "import pandas as pd"
   ]
  },
  {
   "cell_type": "code",
   "execution_count": 2,
   "id": "0c98f934-bb4d-4fc3-ac30-bc8b5047c4dd",
   "metadata": {},
   "outputs": [],
   "source": [
    "# Specify the path to the ChromeDriver executable\n",
    "chrome_driver_path = 'C:/Users/ditiro/Downloads/chromedriver_win32/chromedriver.exe'\n",
    "\n",
    "# Create a Service object\n",
    "service = Service(chrome_driver_path)\n",
    "\n",
    "# Start the WebDriver with the Service object\n",
    "driver = webdriver.Chrome(service=service)"
   ]
  },
  {
   "cell_type": "code",
   "execution_count": 3,
   "id": "5bce05df-a2fc-47d1-8476-eae96bf68173",
   "metadata": {},
   "outputs": [],
   "source": [
    "driver.get(\"https://www.statsbots.org.bw/motor-vehicle-accident-trend-transport-sector\")\n",
    "driver.implicitly_wait(15)"
   ]
  },
  {
   "cell_type": "code",
   "execution_count": 4,
   "id": "db97d278-f834-4d74-82c6-ae9d9c5f65a0",
   "metadata": {},
   "outputs": [],
   "source": [
    "data = driver.find_elements(By.XPATH, \"//*[name()='svg']//*[name()='g' and contains(@class, 'highcharts-data-labels highcharts-series-0')]\") \n"
   ]
  },
  {
   "cell_type": "code",
   "execution_count": 5,
   "id": "8908dc46-1b6b-4252-852b-eb00c52e962b",
   "metadata": {},
   "outputs": [
    {
     "data": {
      "text/plain": [
       "[<selenium.webdriver.remote.webelement.WebElement (session=\"dd5781ccd380bc484e8114f88cd65971\", element=\"AF1A7CFEE41C7EFCBBC7C367ECDE3B4B_element_14\")>]"
      ]
     },
     "execution_count": 5,
     "metadata": {},
     "output_type": "execute_result"
    }
   ],
   "source": [
    "data"
   ]
  },
  {
   "cell_type": "code",
   "execution_count": 6,
   "id": "dea9ceca-61a1-4808-a887-1e13035c46b1",
   "metadata": {},
   "outputs": [
    {
     "name": "stdout",
     "output_type": "stream",
     "text": [
      "17 527\n",
      "17 062\n",
      "16 641\n",
      "17 654\n",
      "18 373\n",
      "17 786\n",
      "17 341\n",
      "18 623\n",
      "15 075\n",
      "17 277\n"
     ]
    }
   ],
   "source": [
    "for element in data:\n",
    "    print(element.text)"
   ]
  },
  {
   "cell_type": "code",
   "execution_count": 7,
   "id": "fc027556-208d-460d-a636-7f329bcb58c8",
   "metadata": {},
   "outputs": [],
   "source": [
    "\n",
    "\n",
    "years = driver.find_elements(By.XPATH, \"//*[name()='svg']//*[name()='g' and contains(@class, 'highcharts-axis-labels highcharts-xaxis-labels')]\") "
   ]
  },
  {
   "cell_type": "code",
   "execution_count": 8,
   "id": "1bb8325c-4429-47e9-b604-aa6e0baab11b",
   "metadata": {},
   "outputs": [
    {
     "name": "stdout",
     "output_type": "stream",
     "text": [
      "2012\n",
      "2013\n",
      "2014\n",
      "2015\n",
      "2016\n",
      "2017\n",
      "2018\n",
      "2019\n",
      "2020\n",
      "2021\n"
     ]
    }
   ],
   "source": [
    "for element in years:\n",
    "    print(element.text)"
   ]
  },
  {
   "cell_type": "code",
   "execution_count": 9,
   "id": "ae68380d-aff0-427a-a0c8-bcd40d449c3f",
   "metadata": {},
   "outputs": [],
   "source": [
    "year_stats = []\n",
    "for p in range(len(data)):\n",
    "    year_stats.append(data[p].text)"
   ]
  },
  {
   "cell_type": "code",
   "execution_count": 10,
   "id": "8000f071-8b58-48a8-84cb-5ff76a3a7a9e",
   "metadata": {},
   "outputs": [
    {
     "data": {
      "text/plain": [
       "['17 527\\n17 062\\n16 641\\n17 654\\n18 373\\n17 786\\n17 341\\n18 623\\n15 075\\n17 277']"
      ]
     },
     "execution_count": 10,
     "metadata": {},
     "output_type": "execute_result"
    }
   ],
   "source": [
    "year_stats"
   ]
  },
  {
   "cell_type": "code",
   "execution_count": 11,
   "id": "001b7104-f015-4923-aaa9-ce09eed0dfaf",
   "metadata": {},
   "outputs": [],
   "source": [
    "year = []\n",
    "for p in range(len(years)):\n",
    "    year.append(years[p].text)"
   ]
  },
  {
   "cell_type": "code",
   "execution_count": 12,
   "id": "bd3adced-75da-4b57-8214-dd805d729fa5",
   "metadata": {},
   "outputs": [
    {
     "data": {
      "text/plain": [
       "['2012\\n2013\\n2014\\n2015\\n2016\\n2017\\n2018\\n2019\\n2020\\n2021']"
      ]
     },
     "execution_count": 12,
     "metadata": {},
     "output_type": "execute_result"
    }
   ],
   "source": [
    "year"
   ]
  },
  {
   "cell_type": "code",
   "execution_count": 13,
   "id": "bac8f768-5a60-4d7d-b74d-e650b6147044",
   "metadata": {},
   "outputs": [],
   "source": [
    "year_stats = year_stats[0].split('\\n')\n",
    "year = year[0].split('\\n')\n",
    "\n"
   ]
  },
  {
   "cell_type": "code",
   "execution_count": 14,
   "id": "2f3f3015-0924-426d-b679-e2cf047d0799",
   "metadata": {},
   "outputs": [],
   "source": [
    "df = {'year':year, 'num_of_accidents': year_stats}"
   ]
  },
  {
   "cell_type": "code",
   "execution_count": 28,
   "id": "9c967fa8-23a2-4dd0-83cf-6b86f721225a",
   "metadata": {},
   "outputs": [],
   "source": [
    "import pandas as pd\n",
    "import os\n",
    "df = pd.DataFrame(df)"
   ]
  },
  {
   "cell_type": "code",
   "execution_count": 16,
   "id": "89c4a2f5-7e14-4c69-b3d6-3cc98dd86fb4",
   "metadata": {
    "scrolled": true
   },
   "outputs": [
    {
     "data": {
      "text/html": [
       "<div>\n",
       "<style scoped>\n",
       "    .dataframe tbody tr th:only-of-type {\n",
       "        vertical-align: middle;\n",
       "    }\n",
       "\n",
       "    .dataframe tbody tr th {\n",
       "        vertical-align: top;\n",
       "    }\n",
       "\n",
       "    .dataframe thead th {\n",
       "        text-align: right;\n",
       "    }\n",
       "</style>\n",
       "<table border=\"1\" class=\"dataframe\">\n",
       "  <thead>\n",
       "    <tr style=\"text-align: right;\">\n",
       "      <th></th>\n",
       "      <th>year</th>\n",
       "      <th>num_of_accidents</th>\n",
       "    </tr>\n",
       "  </thead>\n",
       "  <tbody>\n",
       "    <tr>\n",
       "      <th>0</th>\n",
       "      <td>2012</td>\n",
       "      <td>17 527</td>\n",
       "    </tr>\n",
       "    <tr>\n",
       "      <th>1</th>\n",
       "      <td>2013</td>\n",
       "      <td>17 062</td>\n",
       "    </tr>\n",
       "    <tr>\n",
       "      <th>2</th>\n",
       "      <td>2014</td>\n",
       "      <td>16 641</td>\n",
       "    </tr>\n",
       "    <tr>\n",
       "      <th>3</th>\n",
       "      <td>2015</td>\n",
       "      <td>17 654</td>\n",
       "    </tr>\n",
       "    <tr>\n",
       "      <th>4</th>\n",
       "      <td>2016</td>\n",
       "      <td>18 373</td>\n",
       "    </tr>\n",
       "    <tr>\n",
       "      <th>5</th>\n",
       "      <td>2017</td>\n",
       "      <td>17 786</td>\n",
       "    </tr>\n",
       "    <tr>\n",
       "      <th>6</th>\n",
       "      <td>2018</td>\n",
       "      <td>17 341</td>\n",
       "    </tr>\n",
       "    <tr>\n",
       "      <th>7</th>\n",
       "      <td>2019</td>\n",
       "      <td>18 623</td>\n",
       "    </tr>\n",
       "    <tr>\n",
       "      <th>8</th>\n",
       "      <td>2020</td>\n",
       "      <td>15 075</td>\n",
       "    </tr>\n",
       "    <tr>\n",
       "      <th>9</th>\n",
       "      <td>2021</td>\n",
       "      <td>17 277</td>\n",
       "    </tr>\n",
       "  </tbody>\n",
       "</table>\n",
       "</div>"
      ],
      "text/plain": [
       "   year num_of_accidents\n",
       "0  2012           17 527\n",
       "1  2013           17 062\n",
       "2  2014           16 641\n",
       "3  2015           17 654\n",
       "4  2016           18 373\n",
       "5  2017           17 786\n",
       "6  2018           17 341\n",
       "7  2019           18 623\n",
       "8  2020           15 075\n",
       "9  2021           17 277"
      ]
     },
     "execution_count": 16,
     "metadata": {},
     "output_type": "execute_result"
    }
   ],
   "source": [
    "df"
   ]
  },
  {
   "cell_type": "code",
   "execution_count": 29,
   "id": "5385f239",
   "metadata": {},
   "outputs": [],
   "source": [
    "\n",
    "df.to_csv(\"../../src/data/sumStats.csv\")\n"
   ]
  },
  {
   "cell_type": "code",
   "execution_count": null,
   "id": "ce677d88",
   "metadata": {},
   "outputs": [],
   "source": []
  },
  {
   "cell_type": "code",
   "execution_count": null,
   "id": "6ecb7851-5f59-4883-838a-f8b7cbf59de2",
   "metadata": {},
   "outputs": [],
   "source": []
  },
  {
   "cell_type": "code",
   "execution_count": null,
   "id": "3efab648",
   "metadata": {},
   "outputs": [],
   "source": []
  }
 ],
 "metadata": {
  "kernelspec": {
   "display_name": "Python 3 (ipykernel)",
   "language": "python",
   "name": "python3"
  },
  "language_info": {
   "codemirror_mode": {
    "name": "ipython",
    "version": 3
   },
   "file_extension": ".py",
   "mimetype": "text/x-python",
   "name": "python",
   "nbconvert_exporter": "python",
   "pygments_lexer": "ipython3",
   "version": "3.10.9"
  }
 },
 "nbformat": 4,
 "nbformat_minor": 5
}
