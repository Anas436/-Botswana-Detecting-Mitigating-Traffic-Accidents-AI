{
 "cells": [
  {
   "cell_type": "code",
   "execution_count": 1,
   "id": "b9299774",
   "metadata": {},
   "outputs": [],
   "source": [
    "import pandas as pd "
   ]
  },
  {
   "cell_type": "code",
   "execution_count": 3,
   "id": "18248269",
   "metadata": {},
   "outputs": [],
   "source": [
    "df = pd.read_csv('../../data/preprocessed_data/botswana-gdp.csv')"
   ]
  },
  {
   "cell_type": "code",
   "execution_count": 4,
   "id": "7fad0292",
   "metadata": {},
   "outputs": [
    {
     "data": {
      "text/html": [
       "<div>\n",
       "<style scoped>\n",
       "    .dataframe tbody tr th:only-of-type {\n",
       "        vertical-align: middle;\n",
       "    }\n",
       "\n",
       "    .dataframe tbody tr th {\n",
       "        vertical-align: top;\n",
       "    }\n",
       "\n",
       "    .dataframe thead th {\n",
       "        text-align: right;\n",
       "    }\n",
       "</style>\n",
       "<table border=\"1\" class=\"dataframe\">\n",
       "  <thead>\n",
       "    <tr style=\"text-align: right;\">\n",
       "      <th></th>\n",
       "      <th>date</th>\n",
       "      <th>GDP ( Billions of US $)</th>\n",
       "      <th>Per Capita (US $)</th>\n",
       "      <th>Annual % Change</th>\n",
       "    </tr>\n",
       "  </thead>\n",
       "  <tbody>\n",
       "    <tr>\n",
       "      <th>0</th>\n",
       "      <td>1960-12-31</td>\n",
       "      <td>0.030412</td>\n",
       "      <td>59.2989</td>\n",
       "      <td>NaN</td>\n",
       "    </tr>\n",
       "    <tr>\n",
       "      <th>1</th>\n",
       "      <td>1961-12-31</td>\n",
       "      <td>0.032902</td>\n",
       "      <td>62.7425</td>\n",
       "      <td>6.3433</td>\n",
       "    </tr>\n",
       "    <tr>\n",
       "      <th>2</th>\n",
       "      <td>1962-12-31</td>\n",
       "      <td>0.035643</td>\n",
       "      <td>66.4455</td>\n",
       "      <td>6.6667</td>\n",
       "    </tr>\n",
       "    <tr>\n",
       "      <th>3</th>\n",
       "      <td>1963-12-31</td>\n",
       "      <td>0.038091</td>\n",
       "      <td>69.3776</td>\n",
       "      <td>5.9210</td>\n",
       "    </tr>\n",
       "    <tr>\n",
       "      <th>4</th>\n",
       "      <td>1964-12-31</td>\n",
       "      <td>0.041614</td>\n",
       "      <td>74.0101</td>\n",
       "      <td>6.8323</td>\n",
       "    </tr>\n",
       "    <tr>\n",
       "      <th>...</th>\n",
       "      <td>...</td>\n",
       "      <td>...</td>\n",
       "      <td>...</td>\n",
       "      <td>...</td>\n",
       "    </tr>\n",
       "    <tr>\n",
       "      <th>57</th>\n",
       "      <td>2017-12-31</td>\n",
       "      <td>16.105182</td>\n",
       "      <td>6705.3519</td>\n",
       "      <td>4.1131</td>\n",
       "    </tr>\n",
       "    <tr>\n",
       "      <th>58</th>\n",
       "      <td>2018-12-31</td>\n",
       "      <td>17.031901</td>\n",
       "      <td>6947.8008</td>\n",
       "      <td>4.1898</td>\n",
       "    </tr>\n",
       "    <tr>\n",
       "      <th>59</th>\n",
       "      <td>2019-12-31</td>\n",
       "      <td>16.695929</td>\n",
       "      <td>6679.1677</td>\n",
       "      <td>3.0326</td>\n",
       "    </tr>\n",
       "    <tr>\n",
       "      <th>60</th>\n",
       "      <td>2020-12-31</td>\n",
       "      <td>14.930072</td>\n",
       "      <td>5863.2032</td>\n",
       "      <td>-8.7264</td>\n",
       "    </tr>\n",
       "    <tr>\n",
       "      <th>61</th>\n",
       "      <td>2021-12-31</td>\n",
       "      <td>17.614791</td>\n",
       "      <td>6805.2213</td>\n",
       "      <td>11.3700</td>\n",
       "    </tr>\n",
       "  </tbody>\n",
       "</table>\n",
       "<p>62 rows × 4 columns</p>\n",
       "</div>"
      ],
      "text/plain": [
       "          date   GDP ( Billions of US $)   Per Capita (US $)   Annual % Change\n",
       "0   1960-12-31                  0.030412             59.2989               NaN\n",
       "1   1961-12-31                  0.032902             62.7425            6.3433\n",
       "2   1962-12-31                  0.035643             66.4455            6.6667\n",
       "3   1963-12-31                  0.038091             69.3776            5.9210\n",
       "4   1964-12-31                  0.041614             74.0101            6.8323\n",
       "..         ...                       ...                 ...               ...\n",
       "57  2017-12-31                 16.105182           6705.3519            4.1131\n",
       "58  2018-12-31                 17.031901           6947.8008            4.1898\n",
       "59  2019-12-31                 16.695929           6679.1677            3.0326\n",
       "60  2020-12-31                 14.930072           5863.2032           -8.7264\n",
       "61  2021-12-31                 17.614791           6805.2213           11.3700\n",
       "\n",
       "[62 rows x 4 columns]"
      ]
     },
     "execution_count": 4,
     "metadata": {},
     "output_type": "execute_result"
    }
   ],
   "source": [
    "df"
   ]
  },
  {
   "cell_type": "code",
   "execution_count": 5,
   "id": "7026d189",
   "metadata": {},
   "outputs": [
    {
     "name": "stdout",
     "output_type": "stream",
     "text": [
      "<class 'pandas.core.frame.DataFrame'>\n",
      "RangeIndex: 62 entries, 0 to 61\n",
      "Data columns (total 4 columns):\n",
      " #   Column                    Non-Null Count  Dtype  \n",
      "---  ------                    --------------  -----  \n",
      " 0   date                      62 non-null     object \n",
      " 1    GDP ( Billions of US $)  62 non-null     float64\n",
      " 2    Per Capita (US $)        62 non-null     float64\n",
      " 3    Annual % Change          61 non-null     float64\n",
      "dtypes: float64(3), object(1)\n",
      "memory usage: 2.1+ KB\n"
     ]
    }
   ],
   "source": [
    "df.info()"
   ]
  },
  {
   "cell_type": "code",
   "execution_count": null,
   "id": "28084766",
   "metadata": {},
   "outputs": [],
   "source": []
  }
 ],
 "metadata": {
  "kernelspec": {
   "display_name": "Python 3 (ipykernel)",
   "language": "python",
   "name": "python3"
  },
  "language_info": {
   "codemirror_mode": {
    "name": "ipython",
    "version": 3
   },
   "file_extension": ".py",
   "mimetype": "text/x-python",
   "name": "python",
   "nbconvert_exporter": "python",
   "pygments_lexer": "ipython3",
   "version": "3.10.6"
  }
 },
 "nbformat": 4,
 "nbformat_minor": 5
}
